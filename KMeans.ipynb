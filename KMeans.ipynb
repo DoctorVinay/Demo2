{
  "nbformat": 4,
  "nbformat_minor": 0,
  "metadata": {
    "colab": {
      "name": "KMeans.ipynb",
      "provenance": [],
      "collapsed_sections": []
    },
    "kernelspec": {
      "name": "python3",
      "display_name": "Python 3"
    },
    "language_info": {
      "name": "python"
    }
  },
  "cells": [
    {
      "cell_type": "code",
      "execution_count": null,
      "metadata": {
        "id": "N6BxkG8gzyTP"
      },
      "outputs": [],
      "source": [
        "from sklearn.datasets import make_blobs\n",
        "import matplotlib.pyplot as plt\n",
        "import numpy as np"
      ]
    },
    {
      "cell_type": "code",
      "source": [
        "blob_centers=np.array([[0.2,  2.3],[-1.5 ,  2.3],[-2.8,  1.8],[-2.8,  2.8],[-2.8,  1.3]])\n",
        "blob_std=np.array([0.4, 0.3, 0.1, 0.1, 0.1])\n",
        "data, y=make_blobs(n_samples=2000, centers=blob_centers, cluster_std=blob_std, random_state=7)"
      ],
      "metadata": {
        "id": "iupfqV-G0A81"
      },
      "execution_count": null,
      "outputs": []
    },
    {
      "cell_type": "code",
      "source": [
        "def plot_clusters(X):\n",
        "  plt.scatter(X[:,0], X[:,1], s=1)\n",
        "  plt.xlabel(\"$x_1$\", fontsize=14)\n",
        "  plt.ylabel(\"$x_2$\", fontsize=14, rotation=0)"
      ],
      "metadata": {
        "id": "1GMwhmOJ0sej"
      },
      "execution_count": null,
      "outputs": []
    },
    {
      "cell_type": "code",
      "source": [
        "plt.figure(figsize=(10,5))\n",
        "plot_clusters(data)"
      ],
      "metadata": {
        "colab": {
          "base_uri": "https://localhost:8080/",
          "height": 338
        },
        "id": "kx8jw_HZ1ObN",
        "outputId": "f353cd89-1bdd-4e31-bdd8-6b628297f522"
      },
      "execution_count": null,
      "outputs": [
        {
          "output_type": "display_data",
          "data": {
            "image/png": "[encoded data removed]",
            "text/plain": [
              "<Figure size 720x360 with 1 Axes>"
            ]
          },
          "metadata": {
            "needs_background": "light"
          }
        }
      ]
    },
    {
      "cell_type": "code",
      "source": [
        "from sklearn.cluster import KMeans\n",
        "kmeans=KMeans(n_clusters=5)\n",
        "kmeans.fit(data)"
      ],
      "metadata": {
        "colab": {
          "base_uri": "https://localhost:8080/"
        },
        "id": "0VTNjLnQ23_o",
        "outputId": "bbb4dbea-5a8f-4797-ff3f-49152816a1b1"
      },
      "execution_count": null,
      "outputs": [
        {
          "output_type": "execute_result",
          "data": {
            "text/plain": [
              "KMeans(n_clusters=5)"
            ]
          },
          "metadata": {},
          "execution_count": 5
        }
      ]
    },
    {
      "cell_type": "code",
      "source": [
        "y_predict=kmeans.predict(data)"
      ],
      "metadata": {
        "id": "KVVLiOsN3ZAD"
      },
      "execution_count": null,
      "outputs": []
    },
    {
      "cell_type": "code",
      "source": [
        "kmeans.cluster_centers_"
      ],
      "metadata": {
        "colab": {
          "base_uri": "https://localhost:8080/"
        },
        "id": "e5uvwkS23hP1",
        "outputId": "b541cd51-260a-41b7-8482-0c2679ab53fe"
      },
      "execution_count": null,
      "outputs": [
        {
          "output_type": "execute_result",
          "data": {
            "text/plain": [
              "array([[-2.80389616,  1.80117999],\n",
              "       [ 0.20876306,  2.25551336],\n",
              "       [-1.46679593,  2.28585348],\n",
              "       [-2.79290307,  2.79641063],\n",
              "       [-2.80037642,  1.30082566]])"
            ]
          },
          "metadata": {},
          "execution_count": 7
        }
      ]
    },
    {
      "cell_type": "code",
      "source": [
        "X_new=np.array([[0,2],[3,2],[-3,3],[-3,2.5]])"
      ],
      "metadata": {
        "id": "RhFbJWaY3yMl"
      },
      "execution_count": null,
      "outputs": []
    },
    {
      "cell_type": "code",
      "source": [
        "kmeans.predict(X_new)"
      ],
      "metadata": {
        "colab": {
          "base_uri": "https://localhost:8080/"
        },
        "id": "8uqfMUKS4cOK",
        "outputId": "daebc916-4621-4fac-f7b8-c263e84400ce"
      },
      "execution_count": null,
      "outputs": [
        {
          "output_type": "execute_result",
          "data": {
            "text/plain": [
              "array([1, 1, 3, 3], dtype=int32)"
            ]
          },
          "metadata": {},
          "execution_count": 9
        }
      ]
    },
    {
      "cell_type": "code",
      "source": [
        "hori=np.linspace(-4,2,1000)\n",
        "ver=np.linspace(0,4,1000)\n",
        "x,y = np.meshgrid(hori, ver)"
      ],
      "metadata": {
        "id": "EpvtoOPG4iKT"
      },
      "execution_count": null,
      "outputs": []
    },
    {
      "cell_type": "code",
      "source": [
        "xy=np.stack((x.ravel(), y.ravel()), axis=1)"
      ],
      "metadata": {
        "id": "pOQwkFwI6ZdI"
      },
      "execution_count": null,
      "outputs": []
    },
    {
      "cell_type": "code",
      "source": [
        "y_pred=kmeans.predict(xy)"
      ],
      "metadata": {
        "id": "E9iJJCcD6izj"
      },
      "execution_count": null,
      "outputs": []
    },
    {
      "cell_type": "code",
      "source": [
        "y_pred=y_pred.reshape(x.shape)"
      ],
      "metadata": {
        "id": "blY_lPMp7DTt"
      },
      "execution_count": null,
      "outputs": []
    },
    {
      "cell_type": "code",
      "source": [
        "plt.figure()\n",
        "plt.contour(y_pred, extent=(-4, 2, 0, 4))\n",
        "plt.scatter(data[:,0], data[:,1], s=1)\n",
        "plt.scatter(kmeans.cluster_centers_[:,0], kmeans.cluster_centers_[:,1])"
      ],
      "metadata": {
        "colab": {
          "base_uri": "https://localhost:8080/",
          "height": 286
        },
        "id": "0ocffk9V8ss3",
        "outputId": "ec17bc89-5c4d-4cc1-def2-1e2e4da7f692"
      },
      "execution_count": null,
      "outputs": [
        {
          "output_type": "execute_result",
          "data": {
            "text/plain": [
              "<matplotlib.collections.PathCollection at 0x7f773d5d8b50>"
            ]
          },
          "metadata": {},
          "execution_count": 21
        },
        {
          "output_type": "display_data",
          "data": {
            "image/png": "[encoded data removed]",
            "text/plain": [
              "<Figure size 432x288 with 1 Axes>"
            ]
          },
          "metadata": {
            "needs_background": "light"
          }
        }
      ]
    },
    {
      "cell_type": "code",
      "source": [
        "X_new"
      ],
      "metadata": {
        "colab": {
          "base_uri": "https://localhost:8080/"
        },
        "id": "AvARonG0-ea1",
        "outputId": "784ad019-cdf5-41de-cc3f-0213ba99de1d"
      },
      "execution_count": null,
      "outputs": [
        {
          "output_type": "execute_result",
          "data": {
            "text/plain": [
              "array([[ 0. ,  2. ],\n",
              "       [ 3. ,  2. ],\n",
              "       [-3. ,  3. ],\n",
              "       [-3. ,  2.5]])"
            ]
          },
          "metadata": {},
          "execution_count": 15
        }
      ]
    },
    {
      "cell_type": "code",
      "source": [
        "kmeans.transform(X_new)"
      ],
      "metadata": {
        "colab": {
          "base_uri": "https://localhost:8080/"
        },
        "id": "OVAbTzAB_iVy",
        "outputId": "94f62d1e-a788-4202-ed61-8628106852c7"
      },
      "execution_count": null,
      "outputs": [
        {
          "output_type": "execute_result",
          "data": {
            "text/plain": [
              "array([[2.81093633, 0.32995317, 1.49439034, 2.9042344 , 2.88633901],\n",
              "       [5.80730058, 2.80290755, 4.4759332 , 5.84739223, 5.84236351],\n",
              "       [1.21475352, 3.29399768, 1.69136631, 0.29040966, 1.71086031],\n",
              "       [0.72581411, 3.21806371, 1.54808703, 0.36159148, 1.21567622]])"
            ]
          },
          "metadata": {},
          "execution_count": 16
        }
      ]
    },
    {
      "cell_type": "code",
      "source": [
        "kmeans.cluster_centers_.shape"
      ],
      "metadata": {
        "colab": {
          "base_uri": "https://localhost:8080/"
        },
        "id": "8iFljZdk_odQ",
        "outputId": "ac2fcbac-7850-4c48-f884-5b141968797b"
      },
      "execution_count": null,
      "outputs": [
        {
          "output_type": "execute_result",
          "data": {
            "text/plain": [
              "(5, 2)"
            ]
          },
          "metadata": {},
          "execution_count": 17
        }
      ]
    },
    {
      "cell_type": "code",
      "source": [
        "rep=np.tile(X_new[0], (5,1))\n",
        "rep"
      ],
      "metadata": {
        "colab": {
          "base_uri": "https://localhost:8080/"
        },
        "id": "7f_q4ciFAh9I",
        "outputId": "c4f4bfdc-f38f-4c8f-999d-4ba45cb7f269"
      },
      "execution_count": null,
      "outputs": [
        {
          "output_type": "execute_result",
          "data": {
            "text/plain": [
              "array([[0., 2.],\n",
              "       [0., 2.],\n",
              "       [0., 2.],\n",
              "       [0., 2.],\n",
              "       [0., 2.]])"
            ]
          },
          "metadata": {},
          "execution_count": 18
        }
      ]
    },
    {
      "cell_type": "code",
      "source": [
        "np.linalg.norm((kmeans.cluster_centers_-rep), axis=1)"
      ],
      "metadata": {
        "colab": {
          "base_uri": "https://localhost:8080/"
        },
        "id": "1Xi1q7vUBJBX",
        "outputId": "8c7d46e9-1e68-4b06-b342-a2d017ad0bfd"
      },
      "execution_count": null,
      "outputs": [
        {
          "output_type": "execute_result",
          "data": {
            "text/plain": [
              "array([2.81093633, 0.32995317, 1.49439034, 2.9042344 , 2.88633901])"
            ]
          },
          "metadata": {},
          "execution_count": 19
        }
      ]
    },
    {
      "cell_type": "code",
      "source": [
        ""
      ],
      "metadata": {
        "id": "rBx6KprnBNFL"
      },
      "execution_count": null,
      "outputs": []
    }
  ]
}